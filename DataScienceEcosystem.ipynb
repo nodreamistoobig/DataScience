{
 "cells": [
  {
   "cell_type": "markdown",
   "id": "f342359e",
   "metadata": {},
   "source": [
    "# Data Science Tools and Ecosystem"
   ]
  },
  {
   "cell_type": "markdown",
   "id": "4c5e568c",
   "metadata": {},
   "source": [
    "In this notebook, Data Science Tools and Ecosystem are summarized."
   ]
  },
  {
   "cell_type": "markdown",
   "id": "a9738d35",
   "metadata": {},
   "source": [
    "*Objectives:*\n",
    "* Represent different types of data (text, code, results of executed codes) on a single page\n",
    "* Execute code\n",
    "* Format text\n",
    "* Create tables and lists\n",
    "* Share notebook"
   ]
  },
  {
   "cell_type": "markdown",
   "id": "32aa0adb",
   "metadata": {},
   "source": [
    "Some of the popular languages that Data Scientists use are:\n",
    "1. Python\n",
    "2. R\n",
    "3. Scala\n",
    "4. SQL\n",
    "5. Java\n",
    "6. C++\n",
    "    "
   ]
  },
  {
   "cell_type": "markdown",
   "id": "d3763f00",
   "metadata": {},
   "source": [
    "Some of the commonly used libraries used by Data Scientists include:\n",
    "1. Pandas\n",
    "2. Plotly\n",
    "3. TensorFlow\n",
    "4. Matplotlib\n",
    "5. Scikit-learn\n",
    "6. Numpy"
   ]
  },
  {
   "cell_type": "markdown",
   "id": "2de7b42c",
   "metadata": {},
   "source": [
    "|Data Science Tools |\n",
    "|:------------------|\n",
    "|Jupyter Notebook|\n",
    "|PostgreSQL|\n",
    "|Spyder|"
   ]
  },
  {
   "cell_type": "markdown",
   "id": "a1b674e0",
   "metadata": {},
   "source": [
    "### Below are a few examples of evaluating arithmetic expressions in Python"
   ]
  },
  {
   "cell_type": "code",
   "execution_count": 3,
   "id": "e8f9da36",
   "metadata": {},
   "outputs": [
    {
     "data": {
      "text/plain": [
       "17"
      ]
     },
     "execution_count": 3,
     "metadata": {},
     "output_type": "execute_result"
    }
   ],
   "source": [
    "#This a simple arithmetic expression to mutiply then add integers\n",
    "(3*4)+5"
   ]
  },
  {
   "cell_type": "code",
   "execution_count": 10,
   "id": "b1317cdc",
   "metadata": {},
   "outputs": [
    {
     "name": "stdout",
     "output_type": "stream",
     "text": [
      "3  hours,  20  minutes\n"
     ]
    }
   ],
   "source": [
    "#This will convert 200 minutes to hours by diving by 60\n",
    "hours = int(200 / 60)\n",
    "minutes = 200 % 60\n",
    "print(hours, \" hours, \", minutes, \" minutes\")"
   ]
  },
  {
   "cell_type": "markdown",
   "id": "16a673a6",
   "metadata": {},
   "source": [
    "## Author  \n",
    "Ekaterina Pushmina"
   ]
  },
  {
   "cell_type": "code",
   "execution_count": 13,
   "id": "109a51c6",
   "metadata": {},
   "outputs": [
    {
     "data": {
      "text/html": [
       "<style>\n",
       "table {float:left}\n",
       "</style>\n"
      ],
      "text/plain": [
       "<IPython.core.display.HTML object>"
      ]
     },
     "metadata": {},
     "output_type": "display_data"
    }
   ],
   "source": [
    "%%html\n",
    "<style>\n",
    "table {float:left}\n",
    "</style>"
   ]
  }
 ],
 "metadata": {
  "kernelspec": {
   "display_name": "Python 3 (ipykernel)",
   "language": "python",
   "name": "python3"
  },
  "language_info": {
   "codemirror_mode": {
    "name": "ipython",
    "version": 3
   },
   "file_extension": ".py",
   "mimetype": "text/x-python",
   "name": "python",
   "nbconvert_exporter": "python",
   "pygments_lexer": "ipython3",
   "version": "3.8.16"
  }
 },
 "nbformat": 4,
 "nbformat_minor": 5
}
